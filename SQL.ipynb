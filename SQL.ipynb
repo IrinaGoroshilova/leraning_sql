{
 "cells": [
  {
   "attachments": {},
   "cell_type": "markdown",
   "id": "23b68ded",
   "metadata": {},
   "source": [
    "<img src=\"photo_2022-10-14_21-31-44.jpg\" width=\"500\"/>"
   ]
  },
  {
   "cell_type": "code",
   "execution_count": null,
   "id": "e1903554",
   "metadata": {},
   "outputs": [],
   "source": [
    "SELECT * \n",
    "FROM apartments \n",
    "WHERE price > (SELECT AVG(price) from apartments) and status = 'Not rented'\n",
    "ORDER BY price;"
   ]
  },
  {
   "cell_type": "markdown",
   "id": "7675f5aa",
   "metadata": {},
   "source": [
    "<img src=\"photo_2022-10-14_21-43-56.jpg\" width=\"500\"/>\n",
    "<img src=\"photo_2022-10-14_21-33-18.jpg\" width=\"500\"/>"
   ]
  },
  {
   "cell_type": "code",
   "execution_count": null,
   "id": "89012aa1",
   "metadata": {},
   "outputs": [],
   "source": [
    "INSERT INTO Animals(name, type, country_id) \n",
    "VALUES ('Slim', 'Giraffe', 1);\n",
    "\n",
    "SELECT \n",
    "    Animals.name, \n",
    "    Animals.type,\n",
    "    Countries.country \n",
    "FROM Animals, Countries \n",
    "WHERE Animals.country_id = Countries.id\n",
    "ORDER BY Animals.country_id DESC"
   ]
  }
 ],
 "metadata": {
  "kernelspec": {
   "display_name": "Python 3 (ipykernel)",
   "language": "python",
   "name": "python3"
  },
  "language_info": {
   "codemirror_mode": {
    "name": "ipython",
    "version": 3
   },
   "file_extension": ".py",
   "mimetype": "text/x-python",
   "name": "python",
   "nbconvert_exporter": "python",
   "pygments_lexer": "ipython3",
   "version": "3.10.0"
  }
 },
 "nbformat": 4,
 "nbformat_minor": 5
}
